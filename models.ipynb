{
  "cells": [
    {
      "cell_type": "code",
      "source": [
        "from tensorflow.keras import layers\n",
        "from sklearn.model_selection import train_test_split\n"
      ],
      "metadata": {
        "id": "647uBX1Is96c"
      },
      "execution_count": 82,
      "outputs": []
    },
    {
      "cell_type": "code",
      "execution_count": 83,
      "metadata": {
        "id": "FYH6GbbkU0Il"
      },
      "outputs": [],
      "source": [
        "import tensorflow as tf\n",
        "import matplotlib as pl\n",
        "import pandas as pd\n",
        "import numpy as np\n",
        "import tensorflow_datasets as tfds\n",
        "\n",
        "(f_train, f_test), f_info = tfds.load('fashion_mnist', split=['train','test'],  with_info=True, as_supervised=True)\n",
        "(d_train, d_test), d_info = tfds.load('mnist', split=['train', 'test'], with_info=True, as_supervised=True)"
      ]
    },
    {
      "cell_type": "code",
      "execution_count": 84,
      "metadata": {
        "id": "7u-R9Wq8VpEq",
        "colab": {
          "base_uri": "https://localhost:8080/"
        },
        "outputId": "5110a8db-7126-4ed3-f176-34065f5eb60a"
      },
      "outputs": [
        {
          "output_type": "execute_result",
          "data": {
            "text/plain": [
              "array([[  0],\n",
              "       [  0],\n",
              "       [  0],\n",
              "       [  0],\n",
              "       [  0],\n",
              "       [  0],\n",
              "       [  0],\n",
              "       [  0],\n",
              "       [  0],\n",
              "       [ 18],\n",
              "       [ 77],\n",
              "       [227],\n",
              "       [227],\n",
              "       [208],\n",
              "       [210],\n",
              "       [225],\n",
              "       [216],\n",
              "       [ 85],\n",
              "       [ 32],\n",
              "       [  0],\n",
              "       [  0],\n",
              "       [  0],\n",
              "       [  0],\n",
              "       [  0],\n",
              "       [  0],\n",
              "       [  0],\n",
              "       [  0],\n",
              "       [  0]], dtype=uint8)"
            ]
          },
          "metadata": {},
          "execution_count": 84
        }
      ],
      "source": [
        "some_examples = tfds.as_dataframe(f_train.take(5), f_info)\n",
        "some_examples.iloc[0].image[0]"
      ]
    },
    {
      "cell_type": "markdown",
      "source": [
        "FMNIST and MNIST both present images as 28 x 28 x 1 np arrays of integers in [0, 255]. Because Keras can directly handle datasets, we don't necessarily need to process them further to feed into a CNN, and indeed that would be smart if the datasets were too large to fit in memory. On the other hand, for this little project, I want to indicate what's happening inside the datasets, so I'll extract to a dataframe and process that."
      ],
      "metadata": {
        "id": "tzqSF7FFfe_Y"
      }
    },
    {
      "cell_type": "code",
      "execution_count": 85,
      "metadata": {
        "colab": {
          "base_uri": "https://localhost:8080/"
        },
        "id": "F2buxXXtfiuO",
        "outputId": "3f665668-bee6-4247-dd58-2af71580fd87"
      },
      "outputs": [
        {
          "output_type": "execute_result",
          "data": {
            "text/plain": [
              "tensorflow.python.data.ops.dataset_ops.PrefetchDataset"
            ]
          },
          "metadata": {},
          "execution_count": 85
        }
      ],
      "source": [
        "type(f_train)"
      ]
    },
    {
      "cell_type": "code",
      "source": [
        "f_train_df = tfds.as_dataframe(f_train, f_info)\n",
        "f_test_df = tfds.as_dataframe(f_test, f_info)\n",
        "d_train_df = tfds.as_dataframe(d_train, d_info)\n",
        "d_test_df = tfds.as_dataframe(d_test, d_info)"
      ],
      "metadata": {
        "id": "IfFttmuDh9Uc"
      },
      "execution_count": 86,
      "outputs": []
    },
    {
      "cell_type": "code",
      "source": [
        "print(f_train_df.iloc[0], f_train_df.dtypes)"
      ],
      "metadata": {
        "colab": {
          "base_uri": "https://localhost:8080/"
        },
        "id": "M7TGga-Pj07a",
        "outputId": "bc98659f-daad-42c4-bdec-a6ec427ab0f0"
      },
      "execution_count": 87,
      "outputs": [
        {
          "output_type": "stream",
          "name": "stdout",
          "text": [
            "image    [[[0], [0], [0], [0], [0], [0], [0], [0], [0],...\n",
            "label                                                    2\n",
            "Name: 0, dtype: object image    object\n",
            "label     int64\n",
            "dtype: object\n"
          ]
        }
      ]
    },
    {
      "cell_type": "markdown",
      "source": [
        "f_train_df has an image column consisting of a 28 x 28 x 1 np array of np uint8, and a np int64 label (0 to 9) "
      ],
      "metadata": {
        "id": "_jUILdJrj7U4"
      }
    },
    {
      "cell_type": "code",
      "source": [
        "type(f_train_df.image.iloc[0])"
      ],
      "metadata": {
        "colab": {
          "base_uri": "https://localhost:8080/"
        },
        "id": "my07mFMwklon",
        "outputId": "00e4bf03-1065-425b-b6ea-7e9c749f404a"
      },
      "execution_count": 88,
      "outputs": [
        {
          "output_type": "execute_result",
          "data": {
            "text/plain": [
              "numpy.ndarray"
            ]
          },
          "metadata": {},
          "execution_count": 88
        }
      ]
    },
    {
      "cell_type": "code",
      "source": [
        "f_train_df.head()"
      ],
      "metadata": {
        "id": "Rz8hrXk3lHRA",
        "colab": {
          "base_uri": "https://localhost:8080/",
          "height": 206
        },
        "outputId": "ac026475-7036-44cc-aab6-88c7e1e14293"
      },
      "execution_count": 89,
      "outputs": [
        {
          "output_type": "execute_result",
          "data": {
            "text/plain": [
              "                                               image  label\n",
              "0  [[[0], [0], [0], [0], [0], [0], [0], [0], [0],...      2\n",
              "1  [[[0], [0], [0], [0], [0], [0], [0], [0], [0],...      1\n",
              "2  [[[0], [0], [0], [0], [0], [0], [0], [0], [0],...      8\n",
              "3  [[[0], [0], [0], [0], [0], [0], [0], [0], [0],...      4\n",
              "4  [[[0], [0], [0], [0], [0], [0], [0], [0], [0],...      1"
            ],
            "text/html": [
              "\n",
              "  <div id=\"df-a01cab78-8101-49ec-bb66-8b6bce4edcac\">\n",
              "    <div class=\"colab-df-container\">\n",
              "      <div>\n",
              "<style scoped>\n",
              "    .dataframe tbody tr th:only-of-type {\n",
              "        vertical-align: middle;\n",
              "    }\n",
              "\n",
              "    .dataframe tbody tr th {\n",
              "        vertical-align: top;\n",
              "    }\n",
              "\n",
              "    .dataframe thead th {\n",
              "        text-align: right;\n",
              "    }\n",
              "</style>\n",
              "<table border=\"1\" class=\"dataframe\">\n",
              "  <thead>\n",
              "    <tr style=\"text-align: right;\">\n",
              "      <th></th>\n",
              "      <th>image</th>\n",
              "      <th>label</th>\n",
              "    </tr>\n",
              "  </thead>\n",
              "  <tbody>\n",
              "    <tr>\n",
              "      <th>0</th>\n",
              "      <td>[[[0], [0], [0], [0], [0], [0], [0], [0], [0],...</td>\n",
              "      <td>2</td>\n",
              "    </tr>\n",
              "    <tr>\n",
              "      <th>1</th>\n",
              "      <td>[[[0], [0], [0], [0], [0], [0], [0], [0], [0],...</td>\n",
              "      <td>1</td>\n",
              "    </tr>\n",
              "    <tr>\n",
              "      <th>2</th>\n",
              "      <td>[[[0], [0], [0], [0], [0], [0], [0], [0], [0],...</td>\n",
              "      <td>8</td>\n",
              "    </tr>\n",
              "    <tr>\n",
              "      <th>3</th>\n",
              "      <td>[[[0], [0], [0], [0], [0], [0], [0], [0], [0],...</td>\n",
              "      <td>4</td>\n",
              "    </tr>\n",
              "    <tr>\n",
              "      <th>4</th>\n",
              "      <td>[[[0], [0], [0], [0], [0], [0], [0], [0], [0],...</td>\n",
              "      <td>1</td>\n",
              "    </tr>\n",
              "  </tbody>\n",
              "</table>\n",
              "</div>\n",
              "      <button class=\"colab-df-convert\" onclick=\"convertToInteractive('df-a01cab78-8101-49ec-bb66-8b6bce4edcac')\"\n",
              "              title=\"Convert this dataframe to an interactive table.\"\n",
              "              style=\"display:none;\">\n",
              "        \n",
              "  <svg xmlns=\"http://www.w3.org/2000/svg\" height=\"24px\"viewBox=\"0 0 24 24\"\n",
              "       width=\"24px\">\n",
              "    <path d=\"M0 0h24v24H0V0z\" fill=\"none\"/>\n",
              "    <path d=\"M18.56 5.44l.94 2.06.94-2.06 2.06-.94-2.06-.94-.94-2.06-.94 2.06-2.06.94zm-11 1L8.5 8.5l.94-2.06 2.06-.94-2.06-.94L8.5 2.5l-.94 2.06-2.06.94zm10 10l.94 2.06.94-2.06 2.06-.94-2.06-.94-.94-2.06-.94 2.06-2.06.94z\"/><path d=\"M17.41 7.96l-1.37-1.37c-.4-.4-.92-.59-1.43-.59-.52 0-1.04.2-1.43.59L10.3 9.45l-7.72 7.72c-.78.78-.78 2.05 0 2.83L4 21.41c.39.39.9.59 1.41.59.51 0 1.02-.2 1.41-.59l7.78-7.78 2.81-2.81c.8-.78.8-2.07 0-2.86zM5.41 20L4 18.59l7.72-7.72 1.47 1.35L5.41 20z\"/>\n",
              "  </svg>\n",
              "      </button>\n",
              "      \n",
              "  <style>\n",
              "    .colab-df-container {\n",
              "      display:flex;\n",
              "      flex-wrap:wrap;\n",
              "      gap: 12px;\n",
              "    }\n",
              "\n",
              "    .colab-df-convert {\n",
              "      background-color: #E8F0FE;\n",
              "      border: none;\n",
              "      border-radius: 50%;\n",
              "      cursor: pointer;\n",
              "      display: none;\n",
              "      fill: #1967D2;\n",
              "      height: 32px;\n",
              "      padding: 0 0 0 0;\n",
              "      width: 32px;\n",
              "    }\n",
              "\n",
              "    .colab-df-convert:hover {\n",
              "      background-color: #E2EBFA;\n",
              "      box-shadow: 0px 1px 2px rgba(60, 64, 67, 0.3), 0px 1px 3px 1px rgba(60, 64, 67, 0.15);\n",
              "      fill: #174EA6;\n",
              "    }\n",
              "\n",
              "    [theme=dark] .colab-df-convert {\n",
              "      background-color: #3B4455;\n",
              "      fill: #D2E3FC;\n",
              "    }\n",
              "\n",
              "    [theme=dark] .colab-df-convert:hover {\n",
              "      background-color: #434B5C;\n",
              "      box-shadow: 0px 1px 3px 1px rgba(0, 0, 0, 0.15);\n",
              "      filter: drop-shadow(0px 1px 2px rgba(0, 0, 0, 0.3));\n",
              "      fill: #FFFFFF;\n",
              "    }\n",
              "  </style>\n",
              "\n",
              "      <script>\n",
              "        const buttonEl =\n",
              "          document.querySelector('#df-a01cab78-8101-49ec-bb66-8b6bce4edcac button.colab-df-convert');\n",
              "        buttonEl.style.display =\n",
              "          google.colab.kernel.accessAllowed ? 'block' : 'none';\n",
              "\n",
              "        async function convertToInteractive(key) {\n",
              "          const element = document.querySelector('#df-a01cab78-8101-49ec-bb66-8b6bce4edcac');\n",
              "          const dataTable =\n",
              "            await google.colab.kernel.invokeFunction('convertToInteractive',\n",
              "                                                     [key], {});\n",
              "          if (!dataTable) return;\n",
              "\n",
              "          const docLinkHtml = 'Like what you see? Visit the ' +\n",
              "            '<a target=\"_blank\" href=https://colab.research.google.com/notebooks/data_table.ipynb>data table notebook</a>'\n",
              "            + ' to learn more about interactive tables.';\n",
              "          element.innerHTML = '';\n",
              "          dataTable['output_type'] = 'display_data';\n",
              "          await google.colab.output.renderOutput(dataTable, element);\n",
              "          const docLink = document.createElement('div');\n",
              "          docLink.innerHTML = docLinkHtml;\n",
              "          element.appendChild(docLink);\n",
              "        }\n",
              "      </script>\n",
              "    </div>\n",
              "  </div>\n",
              "  "
            ]
          },
          "metadata": {},
          "execution_count": 89
        }
      ]
    },
    {
      "cell_type": "markdown",
      "source": [
        "Let's start with a naive neural network approach: going straight from input to output with a single dense layer. "
      ],
      "metadata": {
        "id": "vIfhAu19lIM3"
      }
    },
    {
      "cell_type": "code",
      "source": [
        "X_trainval_f = np.stack(f_train_df.image.to_numpy())\n",
        "X_test_f = np.stack(f_test_df.image.to_numpy())\n",
        "X_trainval_d = np.stack(d_train_df.image.to_numpy())\n",
        "X_test_d = np.stack(d_test_df.image.to_numpy())"
      ],
      "metadata": {
        "id": "Skz38HS_mXnc"
      },
      "execution_count": 90,
      "outputs": []
    },
    {
      "cell_type": "code",
      "source": [
        "y_trainval_f = f_train_df.label.to_numpy()\n",
        "y_test_f = f_test_df.label.to_numpy()\n",
        "y_trainval_d = d_train_df.label.to_numpy()\n",
        "y_test_d = d_test_df.label.to_numpy()"
      ],
      "metadata": {
        "id": "ILY7jBjN3TA-"
      },
      "execution_count": 91,
      "outputs": []
    },
    {
      "cell_type": "code",
      "source": [
        "X_train_f, X_val_f, y_train_f, y_val_f = train_test_split(X_trainval_f, y_trainval_f, test_size=.2, random_state=926)\n",
        "X_train_d, X_val_d, y_train_d, y_val_d = train_test_split(X_trainval_d, y_trainval_d, test_size=.2, random_state=926)"
      ],
      "metadata": {
        "id": "hGHcFZ0n3dGT"
      },
      "execution_count": 92,
      "outputs": []
    },
    {
      "cell_type": "code",
      "source": [
        "inputs = tf.keras.Input(shape=(28, 28, 1))"
      ],
      "metadata": {
        "id": "IUPRkT3QsYaf"
      },
      "execution_count": 93,
      "outputs": []
    },
    {
      "cell_type": "code",
      "source": [
        "model0 = tf.keras.Sequential([\n",
        "    layers.InputLayer(input_shape=(28,28,1)),\n",
        "    layers.Rescaling(1.0/255),\n",
        "    layers.Flatten(input_shape=(28,28,1)),\n",
        "    layers.Dense(10)\n",
        "])"
      ],
      "metadata": {
        "id": "AR1aAYU2smWH"
      },
      "execution_count": 105,
      "outputs": []
    },
    {
      "cell_type": "code",
      "source": [
        "model0.summary()"
      ],
      "metadata": {
        "colab": {
          "base_uri": "https://localhost:8080/"
        },
        "id": "Fg8LuGvMvjYj",
        "outputId": "1b09155d-8f9d-491b-e913-64498ee293c2"
      },
      "execution_count": 106,
      "outputs": [
        {
          "output_type": "stream",
          "name": "stdout",
          "text": [
            "Model: \"sequential_12\"\n",
            "_________________________________________________________________\n",
            " Layer (type)                Output Shape              Param #   \n",
            "=================================================================\n",
            " rescaling_20 (Rescaling)    (None, 28, 28, 1)         0         \n",
            "                                                                 \n",
            " flatten_18 (Flatten)        (None, 784)               0         \n",
            "                                                                 \n",
            " dense_32 (Dense)            (None, 10)                7850      \n",
            "                                                                 \n",
            "=================================================================\n",
            "Total params: 7,850\n",
            "Trainable params: 7,850\n",
            "Non-trainable params: 0\n",
            "_________________________________________________________________\n"
          ]
        }
      ]
    },
    {
      "cell_type": "markdown",
      "source": [
        "The following compile statement will be unchanged for all models I run today, unless there's serious evidence a model is failing to converge. Adam is a little opaque algorithm-wise, but its performance is state-of-the-art according to the literature."
      ],
      "metadata": {
        "id": "0nN0IDZwr4Gz"
      }
    },
    {
      "cell_type": "code",
      "source": [
        "model0.compile(optimizer=tf.keras.optimizers.Adam(0.001),\n",
        "    loss=tf.keras.losses.SparseCategoricalCrossentropy(from_logits=True),\n",
        "    metrics=[tf.keras.metrics.SparseCategoricalAccuracy()])"
      ],
      "metadata": {
        "id": "jRXKVHVsvrVq"
      },
      "execution_count": 107,
      "outputs": []
    },
    {
      "cell_type": "code",
      "source": [
        "history0 = model0.fit(X_train_f, y_train_f, epochs=6, validation_data=(X_val_f, y_val_f))"
      ],
      "metadata": {
        "colab": {
          "base_uri": "https://localhost:8080/"
        },
        "id": "7kr04s-7282y",
        "outputId": "3a32cb28-15a0-4579-9821-b4e3e81b178d"
      },
      "execution_count": 108,
      "outputs": [
        {
          "output_type": "stream",
          "name": "stdout",
          "text": [
            "Epoch 1/6\n",
            "1500/1500 [==============================] - 2s 1ms/step - loss: 0.6252 - sparse_categorical_accuracy: 0.7867 - val_loss: 0.5036 - val_sparse_categorical_accuracy: 0.8234\n",
            "Epoch 2/6\n",
            "1500/1500 [==============================] - 2s 1ms/step - loss: 0.4746 - sparse_categorical_accuracy: 0.8368 - val_loss: 0.4528 - val_sparse_categorical_accuracy: 0.8469\n",
            "Epoch 3/6\n",
            "1500/1500 [==============================] - 2s 2ms/step - loss: 0.4454 - sparse_categorical_accuracy: 0.8469 - val_loss: 0.4334 - val_sparse_categorical_accuracy: 0.8528\n",
            "Epoch 4/6\n",
            "1500/1500 [==============================] - 2s 1ms/step - loss: 0.4286 - sparse_categorical_accuracy: 0.8531 - val_loss: 0.4320 - val_sparse_categorical_accuracy: 0.8507\n",
            "Epoch 5/6\n",
            "1500/1500 [==============================] - 2s 1ms/step - loss: 0.4190 - sparse_categorical_accuracy: 0.8542 - val_loss: 0.4176 - val_sparse_categorical_accuracy: 0.8567\n",
            "Epoch 6/6\n",
            "1500/1500 [==============================] - 2s 1ms/step - loss: 0.4126 - sparse_categorical_accuracy: 0.8568 - val_loss: 0.4128 - val_sparse_categorical_accuracy: 0.8602\n"
          ]
        }
      ]
    },
    {
      "cell_type": "markdown",
      "source": [
        "I am fairly astonished that this neural network handles so much of fmnist accurately"
      ],
      "metadata": {
        "id": "D8J6DzBE-thJ"
      }
    },
    {
      "cell_type": "code",
      "source": [
        "model0.evaluate(X_test_f, y_test_f)"
      ],
      "metadata": {
        "colab": {
          "base_uri": "https://localhost:8080/"
        },
        "id": "C1ZaxXnP_hbQ",
        "outputId": "687b559f-9659-4443-9038-a3b47d0e62f2"
      },
      "execution_count": 109,
      "outputs": [
        {
          "output_type": "stream",
          "name": "stdout",
          "text": [
            "313/313 [==============================] - 1s 1ms/step - loss: 0.4483 - sparse_categorical_accuracy: 0.8440\n"
          ]
        },
        {
          "output_type": "execute_result",
          "data": {
            "text/plain": [
              "[0.44826844334602356, 0.843999981880188]"
            ]
          },
          "metadata": {},
          "execution_count": 109
        }
      ]
    },
    {
      "cell_type": "markdown",
      "source": [
        "The test accuracy is 84.4%, without any deep learning! MNIST will presumably be similar "
      ],
      "metadata": {
        "id": "RuWCC989_qA7"
      }
    },
    {
      "cell_type": "code",
      "source": [
        "d_model0 = tf.keras.Sequential([\n",
        "    layers.InputLayer(input_shape=(28,28,1)),\n",
        "    layers.Rescaling(1.0/255),\n",
        "    layers.Flatten(input_shape=(28,28,1)),\n",
        "    layers.Dense(10)\n",
        "])\n",
        "d_model0.compile(optimizer=tf.keras.optimizers.Adam(0.001),\n",
        "    loss=tf.keras.losses.SparseCategoricalCrossentropy(from_logits=True),\n",
        "    metrics=[tf.keras.metrics.SparseCategoricalAccuracy()])\n",
        "d_history0 = d_model0.fit(X_train_d, y_train_d, epochs=6, validation_data=(X_val_d, y_val_d))\n"
      ],
      "metadata": {
        "colab": {
          "base_uri": "https://localhost:8080/"
        },
        "id": "SevLfrpV_5KZ",
        "outputId": "8822f2f3-9e5b-4384-81cb-ffcf03de9c8d"
      },
      "execution_count": 110,
      "outputs": [
        {
          "output_type": "stream",
          "name": "stdout",
          "text": [
            "Epoch 1/6\n",
            "1500/1500 [==============================] - 2s 1ms/step - loss: 0.5095 - sparse_categorical_accuracy: 0.8682 - val_loss: 0.3372 - val_sparse_categorical_accuracy: 0.9095\n",
            "Epoch 2/6\n",
            "1500/1500 [==============================] - 2s 1ms/step - loss: 0.3138 - sparse_categorical_accuracy: 0.9121 - val_loss: 0.3055 - val_sparse_categorical_accuracy: 0.9158\n",
            "Epoch 3/6\n",
            "1500/1500 [==============================] - 2s 1ms/step - loss: 0.2887 - sparse_categorical_accuracy: 0.9190 - val_loss: 0.2936 - val_sparse_categorical_accuracy: 0.9182\n",
            "Epoch 4/6\n",
            "1500/1500 [==============================] - 2s 1ms/step - loss: 0.2762 - sparse_categorical_accuracy: 0.9221 - val_loss: 0.2909 - val_sparse_categorical_accuracy: 0.9213\n",
            "Epoch 5/6\n",
            "1500/1500 [==============================] - 2s 1ms/step - loss: 0.2687 - sparse_categorical_accuracy: 0.9253 - val_loss: 0.2863 - val_sparse_categorical_accuracy: 0.9203\n",
            "Epoch 6/6\n",
            "1500/1500 [==============================] - 2s 1ms/step - loss: 0.2630 - sparse_categorical_accuracy: 0.9268 - val_loss: 0.2825 - val_sparse_categorical_accuracy: 0.9214\n"
          ]
        }
      ]
    },
    {
      "cell_type": "code",
      "source": [
        "d_model0.evaluate(X_test_d, y_test_d)"
      ],
      "metadata": {
        "colab": {
          "base_uri": "https://localhost:8080/"
        },
        "id": "EwQ6aOm3BCsp",
        "outputId": "9f9ebbee-bb5d-481a-ec1e-ffcab4da5c67"
      },
      "execution_count": 111,
      "outputs": [
        {
          "output_type": "stream",
          "name": "stdout",
          "text": [
            "313/313 [==============================] - 1s 1ms/step - loss: 0.2682 - sparse_categorical_accuracy: 0.9249\n"
          ]
        },
        {
          "output_type": "execute_result",
          "data": {
            "text/plain": [
              "[0.26818469166755676, 0.9248999953269958]"
            ]
          },
          "metadata": {},
          "execution_count": 111
        }
      ]
    },
    {
      "cell_type": "markdown",
      "source": [
        "92.1% validation accuracy, 92.5% test accuracy. MNIST is well-known for producing these high accuracy results. But can these be improved?\n",
        "\n",
        "We'll start by adding some depth to the first neural network."
      ],
      "metadata": {
        "id": "q8lFNuMYA85B"
      }
    },
    {
      "cell_type": "code",
      "source": [
        "callback = tf.keras.callbacks.EarlyStopping(monitor='val_loss', patience=3,\n",
        "                                            verbose=1)\n",
        "# This was added in response to early tests revealing under-training,\n",
        "# see below."
      ],
      "metadata": {
        "id": "-kOlkN8ADvuG"
      },
      "execution_count": 112,
      "outputs": []
    },
    {
      "cell_type": "code",
      "source": [
        "model1 = tf.keras.Sequential([\n",
        "    layers.InputLayer(input_shape=(28,28,1)),\n",
        "    layers.Rescaling(1.0/255),\n",
        "    layers.Flatten(input_shape=(28,28,1)),\n",
        "    layers.Dense(64, activation='relu'),\n",
        "    layers.Dense(10)\n",
        "])"
      ],
      "metadata": {
        "id": "HWfdBTyVBsH8"
      },
      "execution_count": 114,
      "outputs": []
    },
    {
      "cell_type": "code",
      "source": [
        "model2 = tf.keras.Sequential([\n",
        "    layers.InputLayer(input_shape=(28,28,1)),\n",
        "    layers.Rescaling(1.0/255),\n",
        "    layers.Flatten(input_shape=(28,28,1)),\n",
        "    layers.Dense(64, activation='relu'),\n",
        "    layers.Dense(32, activation='relu'),\n",
        "    layers.Dense(10)\n",
        "])\n"
      ],
      "metadata": {
        "id": "Duti0O45Bzd_"
      },
      "execution_count": 115,
      "outputs": []
    },
    {
      "cell_type": "code",
      "source": [
        "model1.compile(optimizer=tf.keras.optimizers.Adam(0.001),\n",
        "    loss=tf.keras.losses.SparseCategoricalCrossentropy(from_logits=True),\n",
        "    metrics=[tf.keras.metrics.SparseCategoricalAccuracy()])\n",
        "model2.compile(optimizer=tf.keras.optimizers.Adam(0.001),\n",
        "    loss=tf.keras.losses.SparseCategoricalCrossentropy(from_logits=True),\n",
        "    metrics=[tf.keras.metrics.SparseCategoricalAccuracy()])"
      ],
      "metadata": {
        "id": "yuz0sk10CRf2"
      },
      "execution_count": 116,
      "outputs": []
    },
    {
      "cell_type": "code",
      "source": [
        "history1 = model1.fit(X_train_f, y_train_f, epochs=20, \n",
        "                      validation_data=(X_val_f, y_val_f), callbacks=[callback])"
      ],
      "metadata": {
        "colab": {
          "base_uri": "https://localhost:8080/"
        },
        "id": "rlSRKDbOCWYX",
        "outputId": "01fb8f41-000e-4fdb-eed4-b3c3de1a75f6"
      },
      "execution_count": 117,
      "outputs": [
        {
          "output_type": "stream",
          "name": "stdout",
          "text": [
            "Epoch 1/20\n",
            "1500/1500 [==============================] - 3s 2ms/step - loss: 0.5500 - sparse_categorical_accuracy: 0.8103 - val_loss: 0.4318 - val_sparse_categorical_accuracy: 0.8497\n",
            "Epoch 2/20\n",
            "1500/1500 [==============================] - 2s 1ms/step - loss: 0.4069 - sparse_categorical_accuracy: 0.8560 - val_loss: 0.3940 - val_sparse_categorical_accuracy: 0.8630\n",
            "Epoch 3/20\n",
            "1500/1500 [==============================] - 2s 2ms/step - loss: 0.3678 - sparse_categorical_accuracy: 0.8681 - val_loss: 0.3638 - val_sparse_categorical_accuracy: 0.8694\n",
            "Epoch 4/20\n",
            "1500/1500 [==============================] - 3s 2ms/step - loss: 0.3452 - sparse_categorical_accuracy: 0.8749 - val_loss: 0.3762 - val_sparse_categorical_accuracy: 0.8583\n",
            "Epoch 5/20\n",
            "1500/1500 [==============================] - 3s 2ms/step - loss: 0.3265 - sparse_categorical_accuracy: 0.8804 - val_loss: 0.3282 - val_sparse_categorical_accuracy: 0.8832\n",
            "Epoch 6/20\n",
            "1500/1500 [==============================] - 3s 2ms/step - loss: 0.3088 - sparse_categorical_accuracy: 0.8866 - val_loss: 0.3277 - val_sparse_categorical_accuracy: 0.8835\n",
            "Epoch 7/20\n",
            "1500/1500 [==============================] - 2s 1ms/step - loss: 0.2979 - sparse_categorical_accuracy: 0.8910 - val_loss: 0.3228 - val_sparse_categorical_accuracy: 0.8835\n",
            "Epoch 8/20\n",
            "1500/1500 [==============================] - 3s 2ms/step - loss: 0.2868 - sparse_categorical_accuracy: 0.8941 - val_loss: 0.3200 - val_sparse_categorical_accuracy: 0.8837\n",
            "Epoch 9/20\n",
            "1500/1500 [==============================] - 2s 2ms/step - loss: 0.2806 - sparse_categorical_accuracy: 0.8964 - val_loss: 0.3340 - val_sparse_categorical_accuracy: 0.8817\n",
            "Epoch 10/20\n",
            "1500/1500 [==============================] - 2s 2ms/step - loss: 0.2711 - sparse_categorical_accuracy: 0.8998 - val_loss: 0.3268 - val_sparse_categorical_accuracy: 0.8820\n",
            "Epoch 11/20\n",
            "1500/1500 [==============================] - 3s 2ms/step - loss: 0.2633 - sparse_categorical_accuracy: 0.9025 - val_loss: 0.3216 - val_sparse_categorical_accuracy: 0.8861\n",
            "Epoch 11: early stopping\n"
          ]
        }
      ]
    },
    {
      "cell_type": "code",
      "source": [
        "history2 = model2.fit(X_train_f, y_train_f, epochs=20,\n",
        "                      validation_data=(X_val_f, y_val_f), callbacks=[callback])"
      ],
      "metadata": {
        "colab": {
          "base_uri": "https://localhost:8080/"
        },
        "id": "8SG05hSrChpd",
        "outputId": "13f4e3cd-6743-4b75-b3cf-4cba5c9e3263"
      },
      "execution_count": 118,
      "outputs": [
        {
          "output_type": "stream",
          "name": "stdout",
          "text": [
            "Epoch 1/20\n",
            "1500/1500 [==============================] - 3s 2ms/step - loss: 0.5445 - sparse_categorical_accuracy: 0.8082 - val_loss: 0.4822 - val_sparse_categorical_accuracy: 0.8267\n",
            "Epoch 2/20\n",
            "1500/1500 [==============================] - 3s 2ms/step - loss: 0.3999 - sparse_categorical_accuracy: 0.8572 - val_loss: 0.3756 - val_sparse_categorical_accuracy: 0.8644\n",
            "Epoch 3/20\n",
            "1500/1500 [==============================] - 3s 2ms/step - loss: 0.3660 - sparse_categorical_accuracy: 0.8679 - val_loss: 0.3561 - val_sparse_categorical_accuracy: 0.8717\n",
            "Epoch 4/20\n",
            "1500/1500 [==============================] - 2s 2ms/step - loss: 0.3407 - sparse_categorical_accuracy: 0.8761 - val_loss: 0.3426 - val_sparse_categorical_accuracy: 0.8740\n",
            "Epoch 5/20\n",
            "1500/1500 [==============================] - 2s 2ms/step - loss: 0.3241 - sparse_categorical_accuracy: 0.8808 - val_loss: 0.3526 - val_sparse_categorical_accuracy: 0.8729\n",
            "Epoch 6/20\n",
            "1500/1500 [==============================] - 3s 2ms/step - loss: 0.3089 - sparse_categorical_accuracy: 0.8862 - val_loss: 0.3271 - val_sparse_categorical_accuracy: 0.8840\n",
            "Epoch 7/20\n",
            "1500/1500 [==============================] - 2s 2ms/step - loss: 0.2954 - sparse_categorical_accuracy: 0.8915 - val_loss: 0.3371 - val_sparse_categorical_accuracy: 0.8776\n",
            "Epoch 8/20\n",
            "1500/1500 [==============================] - 2s 2ms/step - loss: 0.2838 - sparse_categorical_accuracy: 0.8933 - val_loss: 0.3372 - val_sparse_categorical_accuracy: 0.8798\n",
            "Epoch 9/20\n",
            "1500/1500 [==============================] - 2s 2ms/step - loss: 0.2717 - sparse_categorical_accuracy: 0.8986 - val_loss: 0.3193 - val_sparse_categorical_accuracy: 0.8841\n",
            "Epoch 10/20\n",
            "1500/1500 [==============================] - 2s 2ms/step - loss: 0.2676 - sparse_categorical_accuracy: 0.8996 - val_loss: 0.3440 - val_sparse_categorical_accuracy: 0.8736\n",
            "Epoch 11/20\n",
            "1500/1500 [==============================] - 3s 2ms/step - loss: 0.2604 - sparse_categorical_accuracy: 0.9029 - val_loss: 0.3199 - val_sparse_categorical_accuracy: 0.8867\n",
            "Epoch 12/20\n",
            "1500/1500 [==============================] - 2s 2ms/step - loss: 0.2495 - sparse_categorical_accuracy: 0.9058 - val_loss: 0.3117 - val_sparse_categorical_accuracy: 0.8907\n",
            "Epoch 13/20\n",
            "1500/1500 [==============================] - 2s 2ms/step - loss: 0.2461 - sparse_categorical_accuracy: 0.9089 - val_loss: 0.3090 - val_sparse_categorical_accuracy: 0.8903\n",
            "Epoch 14/20\n",
            "1500/1500 [==============================] - 3s 2ms/step - loss: 0.2392 - sparse_categorical_accuracy: 0.9115 - val_loss: 0.3100 - val_sparse_categorical_accuracy: 0.8924\n",
            "Epoch 15/20\n",
            "1500/1500 [==============================] - 3s 2ms/step - loss: 0.2347 - sparse_categorical_accuracy: 0.9117 - val_loss: 0.3084 - val_sparse_categorical_accuracy: 0.8948\n",
            "Epoch 16/20\n",
            "1500/1500 [==============================] - 3s 2ms/step - loss: 0.2247 - sparse_categorical_accuracy: 0.9159 - val_loss: 0.3216 - val_sparse_categorical_accuracy: 0.8900\n",
            "Epoch 17/20\n",
            "1500/1500 [==============================] - 3s 2ms/step - loss: 0.2241 - sparse_categorical_accuracy: 0.9170 - val_loss: 0.3187 - val_sparse_categorical_accuracy: 0.8914\n",
            "Epoch 18/20\n",
            "1500/1500 [==============================] - 3s 2ms/step - loss: 0.2175 - sparse_categorical_accuracy: 0.9181 - val_loss: 0.3332 - val_sparse_categorical_accuracy: 0.8886\n",
            "Epoch 18: early stopping\n"
          ]
        }
      ]
    },
    {
      "cell_type": "markdown",
      "source": [
        "The first few runs here, I kept incrasing epoch count because the validation error kept going down. But then overtraining set in, and it is worthwhile to stop training at that point. So I put in a callback above, and ran both models until the val_loss stopped going down. The larger model performed only slightly better than the smaller one.\n",
        "\n",
        "Both models perform better on the validation set than model0, so there's some value to deep learning!\n",
        "I will refrain from running them against the test set until the very end, because I may want to fiddle with hyperparameters some more.\n",
        "\n",
        "For instance, let's fiddle with model2 by adding in more nodes in the dense layers."
      ],
      "metadata": {
        "id": "_yHbCMtcDdX4"
      }
    },
    {
      "cell_type": "code",
      "execution_count": 119,
      "metadata": {
        "id": "d8xc-PNoeiQr"
      },
      "outputs": [],
      "source": [
        "model3 = tf.keras.Sequential([\n",
        "    layers.InputLayer(input_shape=(28,28,1)),\n",
        "    layers.Rescaling(1.0/255),\n",
        "    layers.Flatten(input_shape=(28,28,1)),\n",
        "    layers.Dense(256, activation='relu'),\n",
        "    layers.Dense(128, activation='relu'),\n",
        "    layers.Dense(10)\n",
        "])\n",
        "model3.compile(optimizer=tf.keras.optimizers.Adam(0.001),\n",
        "    loss=tf.keras.losses.SparseCategoricalCrossentropy(from_logits=True),\n",
        "    metrics=[tf.keras.metrics.SparseCategoricalAccuracy()])"
      ]
    },
    {
      "cell_type": "code",
      "source": [
        "history3 = model3.fit(X_train_f, y_train_f, epochs=20,\n",
        "                      validation_data=(X_val_f, y_val_f), callbacks=[callback])"
      ],
      "metadata": {
        "colab": {
          "base_uri": "https://localhost:8080/"
        },
        "id": "IBGvSIQ5F75_",
        "outputId": "4c89dcdb-62e8-4e3b-f002-c0864ebb70f9"
      },
      "execution_count": 120,
      "outputs": [
        {
          "output_type": "stream",
          "name": "stdout",
          "text": [
            "Epoch 1/20\n",
            "1500/1500 [==============================] - 5s 3ms/step - loss: 0.4959 - sparse_categorical_accuracy: 0.8219 - val_loss: 0.4011 - val_sparse_categorical_accuracy: 0.8600\n",
            "Epoch 2/20\n",
            "1500/1500 [==============================] - 5s 4ms/step - loss: 0.3702 - sparse_categorical_accuracy: 0.8643 - val_loss: 0.3571 - val_sparse_categorical_accuracy: 0.8704\n",
            "Epoch 3/20\n",
            "1500/1500 [==============================] - 4s 3ms/step - loss: 0.3347 - sparse_categorical_accuracy: 0.8753 - val_loss: 0.3376 - val_sparse_categorical_accuracy: 0.8762\n",
            "Epoch 4/20\n",
            "1500/1500 [==============================] - 4s 2ms/step - loss: 0.3106 - sparse_categorical_accuracy: 0.8847 - val_loss: 0.3208 - val_sparse_categorical_accuracy: 0.8813\n",
            "Epoch 5/20\n",
            "1500/1500 [==============================] - 4s 2ms/step - loss: 0.2913 - sparse_categorical_accuracy: 0.8911 - val_loss: 0.3453 - val_sparse_categorical_accuracy: 0.8740\n",
            "Epoch 6/20\n",
            "1500/1500 [==============================] - 4s 2ms/step - loss: 0.2764 - sparse_categorical_accuracy: 0.8956 - val_loss: 0.2928 - val_sparse_categorical_accuracy: 0.8949\n",
            "Epoch 7/20\n",
            "1500/1500 [==============================] - 4s 3ms/step - loss: 0.2635 - sparse_categorical_accuracy: 0.9001 - val_loss: 0.2994 - val_sparse_categorical_accuracy: 0.8928\n",
            "Epoch 8/20\n",
            "1500/1500 [==============================] - 4s 3ms/step - loss: 0.2515 - sparse_categorical_accuracy: 0.9046 - val_loss: 0.3060 - val_sparse_categorical_accuracy: 0.8903\n",
            "Epoch 9/20\n",
            "1500/1500 [==============================] - 4s 3ms/step - loss: 0.2410 - sparse_categorical_accuracy: 0.9105 - val_loss: 0.2873 - val_sparse_categorical_accuracy: 0.8949\n",
            "Epoch 10/20\n",
            "1500/1500 [==============================] - 5s 3ms/step - loss: 0.2307 - sparse_categorical_accuracy: 0.9117 - val_loss: 0.2901 - val_sparse_categorical_accuracy: 0.8965\n",
            "Epoch 11/20\n",
            "1500/1500 [==============================] - 4s 3ms/step - loss: 0.2239 - sparse_categorical_accuracy: 0.9146 - val_loss: 0.2912 - val_sparse_categorical_accuracy: 0.8951\n",
            "Epoch 12/20\n",
            "1500/1500 [==============================] - 4s 3ms/step - loss: 0.2147 - sparse_categorical_accuracy: 0.9166 - val_loss: 0.3059 - val_sparse_categorical_accuracy: 0.8946\n",
            "Epoch 12: early stopping\n"
          ]
        }
      ]
    },
    {
      "cell_type": "markdown",
      "source": [
        "The most minor of improvements! Let's compare to what we can do with a CNN."
      ],
      "metadata": {
        "id": "xzxRdNuNH3Y5"
      }
    },
    {
      "cell_type": "code",
      "source": [
        "model4 = tf.keras.Sequential([\n",
        "    layers.InputLayer(input_shape=(28,28,1)),\n",
        "    layers.Rescaling(1.0/255),\n",
        "    layers.Conv2D(64, kernel_size=(3,3), activation='relu', input_shape=(28,28,1)),\n",
        "    layers.MaxPooling2D(pool_size=(2,2)),\n",
        "    layers.Flatten(),\n",
        "    layers.Flatten(input_shape=(28,28,1)),\n",
        "    layers.Dense(64, activation='relu'),\n",
        "    layers.Dense(10)\n",
        "])\n",
        "\n"
      ],
      "metadata": {
        "id": "_5PDJAHEBrry"
      },
      "execution_count": 122,
      "outputs": []
    },
    {
      "cell_type": "code",
      "source": [
        "model4.compile(optimizer=tf.keras.optimizers.Adam(0.001),\n",
        "    loss=tf.keras.losses.SparseCategoricalCrossentropy(from_logits=True),\n",
        "    metrics=[tf.keras.metrics.SparseCategoricalAccuracy()])"
      ],
      "metadata": {
        "id": "cmbHJKXyPkA4"
      },
      "execution_count": 123,
      "outputs": []
    },
    {
      "cell_type": "code",
      "source": [
        "history4 = model4.fit(X_train_f, y_train_f, epochs=20,\n",
        "                      validation_data=(X_val_f, y_val_f), callbacks=[callback])"
      ],
      "metadata": {
        "colab": {
          "base_uri": "https://localhost:8080/"
        },
        "id": "kgRKuM_DPqYp",
        "outputId": "9d630a12-1cb6-4783-f163-ca8d92a77ec1"
      },
      "execution_count": 124,
      "outputs": [
        {
          "output_type": "stream",
          "name": "stdout",
          "text": [
            "Epoch 1/20\n",
            "1500/1500 [==============================] - 34s 22ms/step - loss: 0.4174 - sparse_categorical_accuracy: 0.8512 - val_loss: 0.3086 - val_sparse_categorical_accuracy: 0.8896\n",
            "Epoch 2/20\n",
            "1500/1500 [==============================] - 31s 21ms/step - loss: 0.2790 - sparse_categorical_accuracy: 0.8987 - val_loss: 0.2649 - val_sparse_categorical_accuracy: 0.9061\n",
            "Epoch 3/20\n",
            "1500/1500 [==============================] - 30s 20ms/step - loss: 0.2330 - sparse_categorical_accuracy: 0.9152 - val_loss: 0.2480 - val_sparse_categorical_accuracy: 0.9138\n",
            "Epoch 4/20\n",
            "1500/1500 [==============================] - 27s 18ms/step - loss: 0.1996 - sparse_categorical_accuracy: 0.9269 - val_loss: 0.2444 - val_sparse_categorical_accuracy: 0.9143\n",
            "Epoch 5/20\n",
            "1500/1500 [==============================] - 26s 17ms/step - loss: 0.1738 - sparse_categorical_accuracy: 0.9358 - val_loss: 0.2426 - val_sparse_categorical_accuracy: 0.9143\n",
            "Epoch 6/20\n",
            "1500/1500 [==============================] - 26s 17ms/step - loss: 0.1494 - sparse_categorical_accuracy: 0.9446 - val_loss: 0.2357 - val_sparse_categorical_accuracy: 0.9208\n",
            "Epoch 7/20\n",
            "1500/1500 [==============================] - 27s 18ms/step - loss: 0.1291 - sparse_categorical_accuracy: 0.9532 - val_loss: 0.2420 - val_sparse_categorical_accuracy: 0.9221\n",
            "Epoch 8/20\n",
            "1500/1500 [==============================] - 26s 17ms/step - loss: 0.1111 - sparse_categorical_accuracy: 0.9596 - val_loss: 0.2732 - val_sparse_categorical_accuracy: 0.9170\n",
            "Epoch 9/20\n",
            "1500/1500 [==============================] - 25s 17ms/step - loss: 0.0922 - sparse_categorical_accuracy: 0.9666 - val_loss: 0.2701 - val_sparse_categorical_accuracy: 0.9190\n",
            "Epoch 9: early stopping\n"
          ]
        }
      ]
    },
    {
      "cell_type": "markdown",
      "source": [
        "This basic CNN improves validation accuracy to 91.9%, but is seriously overtraining. What if we add a layer and some dropout?"
      ],
      "metadata": {
        "id": "_2ZVbVvNRFpi"
      }
    },
    {
      "cell_type": "code",
      "source": [
        "model5 = tf.keras.models.Sequential([\n",
        "    layers.InputLayer(input_shape=(28,28,1)),\n",
        "    layers.Rescaling(1.0/255),\n",
        "    layers.Conv2D(32, kernel_size=(3,3), activation='relu'),\n",
        "    layers.MaxPooling2D(pool_size=(2,2)),\n",
        "    layers.Conv2D(64, kernel_size=(3,3), activation='relu'),\n",
        "    layers.MaxPooling2D(pool_size=(2,2)),\n",
        "    layers.Flatten(),\n",
        "    layers.Dense(128, activation='relu'),\n",
        "    layers.Dropout(0.5),\n",
        "    layers.Dense(10)\n",
        "])\n"
      ],
      "metadata": {
        "id": "upP25IFRb3d3"
      },
      "execution_count": 126,
      "outputs": []
    },
    {
      "cell_type": "code",
      "source": [
        "model5.compile(optimizer=tf.keras.optimizers.Adam(0.001),\n",
        "    loss=tf.keras.losses.SparseCategoricalCrossentropy(from_logits=True),\n",
        "    metrics=[tf.keras.metrics.SparseCategoricalAccuracy()])"
      ],
      "metadata": {
        "id": "XS4OUVpdU1HN"
      },
      "execution_count": 127,
      "outputs": []
    },
    {
      "cell_type": "code",
      "source": [
        "history5 = model5.fit(X_train_f, y_train_f, epochs=20,\n",
        "                      validation_data=(X_val_f, y_val_f), callbacks=[callback])"
      ],
      "metadata": {
        "colab": {
          "base_uri": "https://localhost:8080/"
        },
        "id": "nmbN3p8iU7hV",
        "outputId": "4f29fef6-5170-430f-8645-49350e258b6e"
      },
      "execution_count": 128,
      "outputs": [
        {
          "output_type": "stream",
          "name": "stdout",
          "text": [
            "Epoch 1/20\n",
            "1500/1500 [==============================] - 32s 21ms/step - loss: 0.6050 - sparse_categorical_accuracy: 0.7801 - val_loss: 0.3582 - val_sparse_categorical_accuracy: 0.8701\n",
            "Epoch 2/20\n",
            "1500/1500 [==============================] - 31s 21ms/step - loss: 0.4007 - sparse_categorical_accuracy: 0.8557 - val_loss: 0.3152 - val_sparse_categorical_accuracy: 0.8822\n",
            "Epoch 3/20\n",
            "1500/1500 [==============================] - 30s 20ms/step - loss: 0.3499 - sparse_categorical_accuracy: 0.8717 - val_loss: 0.2901 - val_sparse_categorical_accuracy: 0.8934\n",
            "Epoch 4/20\n",
            "1500/1500 [==============================] - 31s 20ms/step - loss: 0.3188 - sparse_categorical_accuracy: 0.8846 - val_loss: 0.2777 - val_sparse_categorical_accuracy: 0.8937\n",
            "Epoch 5/20\n",
            "1500/1500 [==============================] - 31s 21ms/step - loss: 0.2942 - sparse_categorical_accuracy: 0.8920 - val_loss: 0.2687 - val_sparse_categorical_accuracy: 0.8989\n",
            "Epoch 6/20\n",
            "1500/1500 [==============================] - 30s 20ms/step - loss: 0.2739 - sparse_categorical_accuracy: 0.8992 - val_loss: 0.2513 - val_sparse_categorical_accuracy: 0.9088\n",
            "Epoch 7/20\n",
            "1500/1500 [==============================] - 30s 20ms/step - loss: 0.2552 - sparse_categorical_accuracy: 0.9061 - val_loss: 0.2353 - val_sparse_categorical_accuracy: 0.9115\n",
            "Epoch 8/20\n",
            "1500/1500 [==============================] - 30s 20ms/step - loss: 0.2425 - sparse_categorical_accuracy: 0.9103 - val_loss: 0.2401 - val_sparse_categorical_accuracy: 0.9118\n",
            "Epoch 9/20\n",
            "1500/1500 [==============================] - 30s 20ms/step - loss: 0.2289 - sparse_categorical_accuracy: 0.9147 - val_loss: 0.2344 - val_sparse_categorical_accuracy: 0.9163\n",
            "Epoch 10/20\n",
            "1500/1500 [==============================] - 31s 21ms/step - loss: 0.2146 - sparse_categorical_accuracy: 0.9216 - val_loss: 0.2408 - val_sparse_categorical_accuracy: 0.9146\n",
            "Epoch 11/20\n",
            "1500/1500 [==============================] - 31s 21ms/step - loss: 0.2053 - sparse_categorical_accuracy: 0.9230 - val_loss: 0.2486 - val_sparse_categorical_accuracy: 0.9158\n",
            "Epoch 12/20\n",
            "1500/1500 [==============================] - 30s 20ms/step - loss: 0.1940 - sparse_categorical_accuracy: 0.9276 - val_loss: 0.2385 - val_sparse_categorical_accuracy: 0.9147\n",
            "Epoch 12: early stopping\n"
          ]
        }
      ]
    },
    {
      "cell_type": "markdown",
      "source": [
        "This was slow and ultimately ineffective, with a little overtraining for good measure. We will need to implement another CNN to get sustainably >90% validation accuracy. Let's try batch normalization, as recommended by \"An Ensemble of Simple Convolutional Neural Network Models for MNIST Digit Recognition\"."
      ],
      "metadata": {
        "id": "lHC7LkYdE2zD"
      }
    },
    {
      "cell_type": "code",
      "execution_count": 129,
      "metadata": {
        "id": "eavmMBwZfhbs"
      },
      "outputs": [],
      "source": [
        "model6 = tf.keras.Sequential([\n",
        "    layers.InputLayer(input_shape=(28,28,1)),\n",
        "    layers.Rescaling(1.0/255),\n",
        "    layers.Conv2D(64, kernel_size=(5,5), padding='same', activation='relu'),\n",
        "    layers.BatchNormalization(),\n",
        "    layers.MaxPool2D(pool_size=(2,2)),\n",
        "    layers.Conv2D(128, kernel_size=(5,5), padding='same', activation='relu'),\n",
        "    layers.BatchNormalization(),\n",
        "    layers.MaxPool2D(pool_size=(2,2)),\n",
        "    layers.Flatten(),\n",
        "    layers.Dense(10)\n",
        "])"
      ]
    },
    {
      "cell_type": "code",
      "source": [
        "model6.compile(optimizer=tf.keras.optimizers.Adam(0.001),\n",
        "    loss=tf.keras.losses.SparseCategoricalCrossentropy(from_logits=True),\n",
        "    metrics=[tf.keras.metrics.SparseCategoricalAccuracy()])"
      ],
      "metadata": {
        "id": "Ech3qJ0RImP5"
      },
      "execution_count": 130,
      "outputs": []
    },
    {
      "cell_type": "code",
      "source": [
        "model6.summary()"
      ],
      "metadata": {
        "colab": {
          "base_uri": "https://localhost:8080/"
        },
        "id": "Wy7tR3i8QUew",
        "outputId": "3d3ad4e4-b8d5-4e47-ad02-46606e1c3f3d"
      },
      "execution_count": 131,
      "outputs": [
        {
          "output_type": "stream",
          "name": "stdout",
          "text": [
            "Model: \"sequential_21\"\n",
            "_________________________________________________________________\n",
            " Layer (type)                Output Shape              Param #   \n",
            "=================================================================\n",
            " rescaling_29 (Rescaling)    (None, 28, 28, 1)         0         \n",
            "                                                                 \n",
            " conv2d_39 (Conv2D)          (None, 28, 28, 64)        1664      \n",
            "                                                                 \n",
            " batch_normalization_23 (Bat  (None, 28, 28, 64)       256       \n",
            " chNormalization)                                                \n",
            "                                                                 \n",
            " max_pooling2d_21 (MaxPoolin  (None, 14, 14, 64)       0         \n",
            " g2D)                                                            \n",
            "                                                                 \n",
            " conv2d_40 (Conv2D)          (None, 14, 14, 128)       204928    \n",
            "                                                                 \n",
            " batch_normalization_24 (Bat  (None, 14, 14, 128)      512       \n",
            " chNormalization)                                                \n",
            "                                                                 \n",
            " max_pooling2d_22 (MaxPoolin  (None, 7, 7, 128)        0         \n",
            " g2D)                                                            \n",
            "                                                                 \n",
            " flatten_29 (Flatten)        (None, 6272)              0         \n",
            "                                                                 \n",
            " dense_50 (Dense)            (None, 10)                62730     \n",
            "                                                                 \n",
            "=================================================================\n",
            "Total params: 270,090\n",
            "Trainable params: 269,706\n",
            "Non-trainable params: 384\n",
            "_________________________________________________________________\n"
          ]
        }
      ]
    },
    {
      "cell_type": "code",
      "source": [
        "history6 = model6.fit(X_train_f, y_train_f, epochs=20,\n",
        "                      validation_data=(X_val_f, y_val_f), callbacks=[callback])"
      ],
      "metadata": {
        "colab": {
          "base_uri": "https://localhost:8080/"
        },
        "id": "C9ilnF-kIqV1",
        "outputId": "b958dda6-b6e7-4861-9419-42087de387e3"
      },
      "execution_count": 132,
      "outputs": [
        {
          "output_type": "stream",
          "name": "stdout",
          "text": [
            "Epoch 1/20\n",
            "1500/1500 [==============================] - 240s 159ms/step - loss: 0.6178 - sparse_categorical_accuracy: 0.8323 - val_loss: 0.4381 - val_sparse_categorical_accuracy: 0.8693\n",
            "Epoch 2/20\n",
            "1500/1500 [==============================] - 236s 157ms/step - loss: 0.3660 - sparse_categorical_accuracy: 0.8860 - val_loss: 0.3052 - val_sparse_categorical_accuracy: 0.9049\n",
            "Epoch 3/20\n",
            "1500/1500 [==============================] - 237s 158ms/step - loss: 0.2755 - sparse_categorical_accuracy: 0.9069 - val_loss: 0.2588 - val_sparse_categorical_accuracy: 0.9082\n",
            "Epoch 4/20\n",
            "1500/1500 [==============================] - 235s 156ms/step - loss: 0.2295 - sparse_categorical_accuracy: 0.9184 - val_loss: 0.3052 - val_sparse_categorical_accuracy: 0.8929\n",
            "Epoch 5/20\n",
            "1500/1500 [==============================] - 237s 158ms/step - loss: 0.1938 - sparse_categorical_accuracy: 0.9299 - val_loss: 0.2410 - val_sparse_categorical_accuracy: 0.9194\n",
            "Epoch 6/20\n",
            "1500/1500 [==============================] - 234s 156ms/step - loss: 0.1756 - sparse_categorical_accuracy: 0.9365 - val_loss: 0.2437 - val_sparse_categorical_accuracy: 0.9148\n",
            "Epoch 7/20\n",
            "1500/1500 [==============================] - 235s 156ms/step - loss: 0.1513 - sparse_categorical_accuracy: 0.9459 - val_loss: 0.2364 - val_sparse_categorical_accuracy: 0.9217\n",
            "Epoch 8/20\n",
            "1500/1500 [==============================] - 234s 156ms/step - loss: 0.1312 - sparse_categorical_accuracy: 0.9531 - val_loss: 0.2766 - val_sparse_categorical_accuracy: 0.9064\n",
            "Epoch 9/20\n",
            "1500/1500 [==============================] - 235s 157ms/step - loss: 0.1124 - sparse_categorical_accuracy: 0.9595 - val_loss: 0.3017 - val_sparse_categorical_accuracy: 0.9043\n",
            "Epoch 10/20\n",
            "1500/1500 [==============================] - 234s 156ms/step - loss: 0.1003 - sparse_categorical_accuracy: 0.9634 - val_loss: 0.4879 - val_sparse_categorical_accuracy: 0.8829\n",
            "Epoch 10: early stopping\n"
          ]
        }
      ]
    },
    {
      "cell_type": "markdown",
      "source": [
        "These results are pretty mediocre, especially given the amount of compute involved. After Epoch 7, the validation loss as pretty good, but then the model started seriously overtraining.\n",
        "\n",
        "To end, let's simply add some padding to Model 5; hopefully that improves performance to something decent.\n",
        "\n"
      ],
      "metadata": {
        "id": "Qtt-01ZdKy3V"
      }
    },
    {
      "cell_type": "code",
      "source": [
        "model7 = tf.keras.Sequential([\n",
        "    layers.InputLayer(input_shape=(28,28,1)),\n",
        "    layers.Rescaling(1.0/255),\n",
        "    layers.Conv2D(32, kernel_size=(3,3), input_shape=(28,28,1), padding='same', activation='relu'),\n",
        "    layers.MaxPool2D(pool_size=(2,2)),\n",
        "    layers.Conv2D(64, kernel_size=(3,3), padding='same', activation='relu'),\n",
        "    layers.MaxPool2D(pool_size=(2,2)),\n",
        "    layers.Flatten(),\n",
        "    layers.Dense(128, activation='relu'),\n",
        "    layers.Dropout(0.6),\n",
        "    layers.Dense(10)\n",
        "])\n",
        "model7.compile(optimizer=tf.keras.optimizers.Adam(0.001),\n",
        "    loss=tf.keras.losses.SparseCategoricalCrossentropy(from_logits=True),\n",
        "    metrics=[tf.keras.metrics.SparseCategoricalAccuracy()])\n",
        "model7.summary()"
      ],
      "metadata": {
        "colab": {
          "base_uri": "https://localhost:8080/"
        },
        "id": "VZU60gzjYiva",
        "outputId": "62c0246b-bda8-4501-e92e-21d3891b05df"
      },
      "execution_count": 133,
      "outputs": [
        {
          "output_type": "stream",
          "name": "stdout",
          "text": [
            "Model: \"sequential_22\"\n",
            "_________________________________________________________________\n",
            " Layer (type)                Output Shape              Param #   \n",
            "=================================================================\n",
            " rescaling_30 (Rescaling)    (None, 28, 28, 1)         0         \n",
            "                                                                 \n",
            " conv2d_41 (Conv2D)          (None, 28, 28, 32)        320       \n",
            "                                                                 \n",
            " max_pooling2d_23 (MaxPoolin  (None, 14, 14, 32)       0         \n",
            " g2D)                                                            \n",
            "                                                                 \n",
            " conv2d_42 (Conv2D)          (None, 14, 14, 64)        18496     \n",
            "                                                                 \n",
            " max_pooling2d_24 (MaxPoolin  (None, 7, 7, 64)         0         \n",
            " g2D)                                                            \n",
            "                                                                 \n",
            " flatten_30 (Flatten)        (None, 3136)              0         \n",
            "                                                                 \n",
            " dense_51 (Dense)            (None, 128)               401536    \n",
            "                                                                 \n",
            " dropout_7 (Dropout)         (None, 128)               0         \n",
            "                                                                 \n",
            " dense_52 (Dense)            (None, 10)                1290      \n",
            "                                                                 \n",
            "=================================================================\n",
            "Total params: 421,642\n",
            "Trainable params: 421,642\n",
            "Non-trainable params: 0\n",
            "_________________________________________________________________\n"
          ]
        }
      ]
    },
    {
      "cell_type": "code",
      "source": [
        "history7 = model7.fit(X_train_f, y_train_f, epochs=20,\n",
        "                      validation_data=(X_val_f, y_val_f), callbacks=[callback])"
      ],
      "metadata": {
        "colab": {
          "base_uri": "https://localhost:8080/"
        },
        "id": "TZIgOUzBY6TN",
        "outputId": "4b9663a3-c50f-443f-dcee-224f57d3f633"
      },
      "execution_count": 134,
      "outputs": [
        {
          "output_type": "stream",
          "name": "stdout",
          "text": [
            "Epoch 1/20\n",
            "1500/1500 [==============================] - 42s 28ms/step - loss: 0.5982 - sparse_categorical_accuracy: 0.7860 - val_loss: 0.3583 - val_sparse_categorical_accuracy: 0.8682\n",
            "Epoch 2/20\n",
            "1500/1500 [==============================] - 42s 28ms/step - loss: 0.4045 - sparse_categorical_accuracy: 0.8567 - val_loss: 0.2998 - val_sparse_categorical_accuracy: 0.8889\n",
            "Epoch 3/20\n",
            "1500/1500 [==============================] - 41s 27ms/step - loss: 0.3534 - sparse_categorical_accuracy: 0.8757 - val_loss: 0.2589 - val_sparse_categorical_accuracy: 0.9076\n",
            "Epoch 4/20\n",
            "1500/1500 [==============================] - 42s 28ms/step - loss: 0.3133 - sparse_categorical_accuracy: 0.8864 - val_loss: 0.2436 - val_sparse_categorical_accuracy: 0.9129\n",
            "Epoch 5/20\n",
            "1500/1500 [==============================] - 41s 27ms/step - loss: 0.2870 - sparse_categorical_accuracy: 0.8976 - val_loss: 0.2363 - val_sparse_categorical_accuracy: 0.9141\n",
            "Epoch 6/20\n",
            "1500/1500 [==============================] - 44s 29ms/step - loss: 0.2647 - sparse_categorical_accuracy: 0.9040 - val_loss: 0.2210 - val_sparse_categorical_accuracy: 0.9203\n",
            "Epoch 7/20\n",
            "1500/1500 [==============================] - 42s 28ms/step - loss: 0.2513 - sparse_categorical_accuracy: 0.9074 - val_loss: 0.2237 - val_sparse_categorical_accuracy: 0.9184\n",
            "Epoch 8/20\n",
            "1500/1500 [==============================] - 41s 27ms/step - loss: 0.2360 - sparse_categorical_accuracy: 0.9133 - val_loss: 0.2273 - val_sparse_categorical_accuracy: 0.9158\n",
            "Epoch 9/20\n",
            "1500/1500 [==============================] - 41s 27ms/step - loss: 0.2233 - sparse_categorical_accuracy: 0.9172 - val_loss: 0.2118 - val_sparse_categorical_accuracy: 0.9233\n",
            "Epoch 10/20\n",
            "1500/1500 [==============================] - 41s 27ms/step - loss: 0.2103 - sparse_categorical_accuracy: 0.9234 - val_loss: 0.2229 - val_sparse_categorical_accuracy: 0.9194\n",
            "Epoch 11/20\n",
            "1500/1500 [==============================] - 42s 28ms/step - loss: 0.2033 - sparse_categorical_accuracy: 0.9237 - val_loss: 0.2146 - val_sparse_categorical_accuracy: 0.9252\n",
            "Epoch 12/20\n",
            "1500/1500 [==============================] - 41s 27ms/step - loss: 0.1923 - sparse_categorical_accuracy: 0.9269 - val_loss: 0.2111 - val_sparse_categorical_accuracy: 0.9273\n",
            "Epoch 13/20\n",
            "1500/1500 [==============================] - 41s 27ms/step - loss: 0.1856 - sparse_categorical_accuracy: 0.9312 - val_loss: 0.2209 - val_sparse_categorical_accuracy: 0.9227\n",
            "Epoch 14/20\n",
            "1500/1500 [==============================] - 41s 28ms/step - loss: 0.1772 - sparse_categorical_accuracy: 0.9348 - val_loss: 0.2358 - val_sparse_categorical_accuracy: 0.9195\n",
            "Epoch 15/20\n",
            "1500/1500 [==============================] - 41s 27ms/step - loss: 0.1716 - sparse_categorical_accuracy: 0.9358 - val_loss: 0.2165 - val_sparse_categorical_accuracy: 0.9263\n",
            "Epoch 15: early stopping\n"
          ]
        }
      ]
    },
    {
      "cell_type": "markdown",
      "source": [
        "This relatively simple CNN appears to be todays winner, with a validation accuracy of 92.6%. "
      ],
      "metadata": {
        "id": "csUNiTrJaV6x"
      }
    },
    {
      "cell_type": "code",
      "source": [
        "import matplotlib.pyplot as plt\n",
        "plt.figure()\n",
        "plt.plot(history7.history['sparse_categorical_accuracy'], label=\"Training loss\")\n",
        "plt.plot(history7.history['val_sparse_categorical_accuracy'], label=\"Validation loss\")\n",
        "plt.title(\"Model accuracy by epoch\")\n",
        "plt.legend()\n",
        "plt.xlabel(\"Epoch\")\n",
        "plt.ylabel(\"Accuracy\")"
      ],
      "metadata": {
        "colab": {
          "base_uri": "https://localhost:8080/",
          "height": 312
        },
        "id": "cPhp8RVkaxKD",
        "outputId": "579d0b7a-1b91-4d0c-d258-e34018d6927d"
      },
      "execution_count": 137,
      "outputs": [
        {
          "output_type": "execute_result",
          "data": {
            "text/plain": [
              "Text(0, 0.5, 'Accuracy')"
            ]
          },
          "metadata": {},
          "execution_count": 137
        },
        {
          "output_type": "display_data",
          "data": {
            "text/plain": [
              "<Figure size 432x288 with 1 Axes>"
            ],
            "image/png": "[encoded data removed]"
          },
          "metadata": {
            "needs_background": "light"
          }
        }
      ]
    },
    {
      "cell_type": "markdown",
      "source": [
        "Model 7 is not seriously overtrained, but it is definitely good that we stopped when we did.\n",
        "\n",
        " Let's test all these models, declaring in advance that Model 7 is my \"official\" model."
      ],
      "metadata": {
        "id": "SGWC2a40cUjQ"
      }
    },
    {
      "cell_type": "code",
      "source": [
        "models = [\n",
        "    model0,\n",
        "    model1,\n",
        "    model2,\n",
        "    model3,\n",
        "    model4,\n",
        "    model5,\n",
        "    model6,\n",
        "    model7\n",
        "]\n",
        "loss = []\n",
        "accuracy = []\n",
        "for model in models:\n",
        "  v = model.evaluate(X_test_f, y_test_f)\n",
        "  loss.append(v[0])\n",
        "  accuracy.append(v[1])\n",
        "\n",
        "plt.figure(figsize=(10,4))\n",
        "plt.subplot(121)\n",
        "plt.bar(range(8), loss)\n",
        "plt.title(\"Test loss by model\")\n",
        "plt.ylabel(\"Loss\")\n",
        "plt.xlabel(\"Model\")\n",
        "plt.subplot(122)\n",
        "plt.bar(range(8), accuracy)\n",
        "plt.title(\"Test accuracy by model\")\n",
        "plt.ylabel(\"Accuracy\")\n",
        "plt.xlabel(\"Model\")\n",
        "\n"
      ],
      "metadata": {
        "colab": {
          "base_uri": "https://localhost:8080/",
          "height": 451
        },
        "id": "-qRWoWlvp28V",
        "outputId": "88f031f6-df04-4802-8120-fb0d4c578564"
      },
      "execution_count": 144,
      "outputs": [
        {
          "output_type": "stream",
          "name": "stdout",
          "text": [
            "313/313 [==============================] - 0s 1ms/step - loss: 0.4483 - sparse_categorical_accuracy: 0.8440\n",
            "313/313 [==============================] - 0s 1ms/step - loss: 0.3655 - sparse_categorical_accuracy: 0.8712\n",
            "313/313 [==============================] - 1s 2ms/step - loss: 0.3772 - sparse_categorical_accuracy: 0.8719\n",
            "313/313 [==============================] - 1s 2ms/step - loss: 0.3562 - sparse_categorical_accuracy: 0.8827\n",
            "313/313 [==============================] - 2s 5ms/step - loss: 0.3048 - sparse_categorical_accuracy: 0.9115\n",
            "313/313 [==============================] - 2s 6ms/step - loss: 0.2660 - sparse_categorical_accuracy: 0.9077\n",
            "313/313 [==============================] - 13s 40ms/step - loss: 0.5497 - sparse_categorical_accuracy: 0.8749\n",
            "313/313 [==============================] - 3s 8ms/step - loss: 0.2437 - sparse_categorical_accuracy: 0.9182\n"
          ]
        },
        {
          "output_type": "execute_result",
          "data": {
            "text/plain": [
              "Text(0.5, 0, 'Model')"
            ]
          },
          "metadata": {},
          "execution_count": 144
        },
        {
          "output_type": "display_data",
          "data": {
            "text/plain": [
              "<Figure size 720x288 with 2 Axes>"
            ],
            "image/png": "[encoded data removed]"
          },
          "metadata": {
            "needs_background": "light"
          }
        }
      ]
    },
    {
      "cell_type": "markdown",
      "source": [
        "Our official model, model 7, has the highest test accuracy! Its test accuracy of 91.8% beats out every other model. Model 4 likewise performed fairly well. Model 6, on the other hand, dramatically underperforms the other CNNs, especially with respect to test loss. It's worth investigating what caused that.\n",
        "\n",
        "Now let's implement Model 7 on MNIST quickly. It is well-established that MNIST is a fairly easy problem, so I expect good performance."
      ],
      "metadata": {
        "id": "NkRAqMmiDo2Q"
      }
    },
    {
      "cell_type": "code",
      "source": [
        "d_model7 = tf.keras.Sequential([\n",
        "    layers.InputLayer(input_shape=(28,28,1)),\n",
        "    layers.Rescaling(1.0/255),\n",
        "    layers.Conv2D(32, kernel_size=(3,3), input_shape=(28,28,1), padding='same', activation='relu'),\n",
        "    layers.MaxPool2D(pool_size=(2,2)),\n",
        "    layers.Conv2D(64, kernel_size=(3,3), padding='same', activation='relu'),\n",
        "    layers.MaxPool2D(pool_size=(2,2)),\n",
        "    layers.Flatten(),\n",
        "    layers.Dense(128, activation='relu'),\n",
        "    layers.Dropout(0.6),\n",
        "    layers.Dense(10)\n",
        "])\n",
        "d_model7.compile(optimizer=tf.keras.optimizers.Adam(0.001),\n",
        "    loss=tf.keras.losses.SparseCategoricalCrossentropy(from_logits=True),\n",
        "    metrics=[tf.keras.metrics.SparseCategoricalAccuracy()])\n"
      ],
      "metadata": {
        "id": "8g1x2GYFEjsX"
      },
      "execution_count": 145,
      "outputs": []
    },
    {
      "cell_type": "code",
      "source": [
        "d_history7 = d_model7.fit(X_train_d, y_train_d, epochs=20,\n",
        "                      validation_data=(X_val_d, y_val_d), callbacks=[callback])"
      ],
      "metadata": {
        "colab": {
          "base_uri": "https://localhost:8080/"
        },
        "id": "n84-FKm7E5eF",
        "outputId": "c212aa68-998f-4d60-b2f8-177dd47bf292"
      },
      "execution_count": 146,
      "outputs": [
        {
          "output_type": "stream",
          "name": "stdout",
          "text": [
            "Epoch 1/20\n",
            "1500/1500 [==============================] - 42s 28ms/step - loss: 0.2752 - sparse_categorical_accuracy: 0.9150 - val_loss: 0.0675 - val_sparse_categorical_accuracy: 0.9803\n",
            "Epoch 2/20\n",
            "1500/1500 [==============================] - 43s 29ms/step - loss: 0.1106 - sparse_categorical_accuracy: 0.9674 - val_loss: 0.0467 - val_sparse_categorical_accuracy: 0.9868\n",
            "Epoch 3/20\n",
            "1500/1500 [==============================] - 40s 27ms/step - loss: 0.0800 - sparse_categorical_accuracy: 0.9762 - val_loss: 0.0422 - val_sparse_categorical_accuracy: 0.9880\n",
            "Epoch 4/20\n",
            "1500/1500 [==============================] - 40s 27ms/step - loss: 0.0643 - sparse_categorical_accuracy: 0.9803 - val_loss: 0.0424 - val_sparse_categorical_accuracy: 0.9887\n",
            "Epoch 5/20\n",
            "1500/1500 [==============================] - 41s 28ms/step - loss: 0.0549 - sparse_categorical_accuracy: 0.9833 - val_loss: 0.0400 - val_sparse_categorical_accuracy: 0.9892\n",
            "Epoch 6/20\n",
            "1500/1500 [==============================] - 40s 27ms/step - loss: 0.0470 - sparse_categorical_accuracy: 0.9858 - val_loss: 0.0439 - val_sparse_categorical_accuracy: 0.9888\n",
            "Epoch 7/20\n",
            "1500/1500 [==============================] - 40s 27ms/step - loss: 0.0419 - sparse_categorical_accuracy: 0.9869 - val_loss: 0.0425 - val_sparse_categorical_accuracy: 0.9883\n",
            "Epoch 8/20\n",
            "1500/1500 [==============================] - 41s 27ms/step - loss: 0.0378 - sparse_categorical_accuracy: 0.9879 - val_loss: 0.0382 - val_sparse_categorical_accuracy: 0.9902\n",
            "Epoch 9/20\n",
            "1500/1500 [==============================] - 40s 27ms/step - loss: 0.0340 - sparse_categorical_accuracy: 0.9892 - val_loss: 0.0384 - val_sparse_categorical_accuracy: 0.9909\n",
            "Epoch 10/20\n",
            "1500/1500 [==============================] - 41s 27ms/step - loss: 0.0296 - sparse_categorical_accuracy: 0.9907 - val_loss: 0.0391 - val_sparse_categorical_accuracy: 0.9895\n",
            "Epoch 11/20\n",
            "1500/1500 [==============================] - 40s 27ms/step - loss: 0.0275 - sparse_categorical_accuracy: 0.9914 - val_loss: 0.0408 - val_sparse_categorical_accuracy: 0.9903\n",
            "Epoch 11: early stopping\n"
          ]
        }
      ]
    },
    {
      "cell_type": "code",
      "source": [
        "d_model7.evaluate(X_test_d, y_test_d)"
      ],
      "metadata": {
        "colab": {
          "base_uri": "https://localhost:8080/"
        },
        "id": "xBu3VQeYG6ac",
        "outputId": "01795981-2188-4668-ecc1-724d24057191"
      },
      "execution_count": 147,
      "outputs": [
        {
          "output_type": "stream",
          "name": "stdout",
          "text": [
            "313/313 [==============================] - 3s 8ms/step - loss: 0.0278 - sparse_categorical_accuracy: 0.9923\n"
          ]
        },
        {
          "output_type": "execute_result",
          "data": {
            "text/plain": [
              "[0.02784891426563263, 0.9922999739646912]"
            ]
          },
          "metadata": {},
          "execution_count": 147
        }
      ]
    },
    {
      "cell_type": "markdown",
      "source": [
        "99.2% accuracy for the same model on MNIST! Now let's save the good models."
      ],
      "metadata": {
        "id": "zfmmgOSVHGnk"
      }
    },
    {
      "cell_type": "code",
      "source": [
        "model7.save(\"trained_FMNIST_model\")"
      ],
      "metadata": {
        "id": "kHU8takvHOQ_"
      },
      "execution_count": 148,
      "outputs": []
    },
    {
      "cell_type": "code",
      "source": [
        "d_model7.save(\"trained_MNIST_model\")"
      ],
      "metadata": {
        "id": "-Jx_mKyeH2y_"
      },
      "execution_count": 149,
      "outputs": []
    }
  ],
  "metadata": {
    "colab": {
      "collapsed_sections": [],
      "provenance": [],
      "authorship_tag": "ABX9TyOCby7L6ZnlP4ndwDYnduqu"
    },
    "kernelspec": {
      "display_name": "Python 3",
      "name": "python3"
    },
    "language_info": {
      "name": "python"
    }
  },
  "nbformat": 4,
  "nbformat_minor": 0
}